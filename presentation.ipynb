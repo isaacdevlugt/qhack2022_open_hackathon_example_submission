{
 "cells": [
  {
   "cell_type": "markdown",
   "id": "421f678e",
   "metadata": {},
   "source": [
    "I present to you our findings:\n",
    "\n",
    "![Dancing crab](crabrave.jpeg)"
   ]
  }
 ],
 "metadata": {
  "kernelspec": {
   "display_name": "Python 3 (ipykernel)",
   "language": "python",
   "name": "python3"
  }
 },
 "nbformat": 4,
 "nbformat_minor": 5
}
